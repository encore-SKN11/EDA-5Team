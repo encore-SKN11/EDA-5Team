{
 "cells": [
  {
   "cell_type": "markdown",
   "id": "0a9ddcd7",
   "metadata": {
    "papermill": {
     "duration": 0.032876,
     "end_time": "2024-03-31T18:37:36.185021",
     "exception": false,
     "start_time": "2024-03-31T18:37:36.152145",
     "status": "completed"
    },
    "tags": []
   },
   "source": [
    "## Table of Contents\n",
    "<ul>\n",
    "<li><a href=\"#intro\">Introduction</a></li>\n",
    "<li><a href=\"#wrangling\">Data Wrangling</a></li>\n",
    "<li><a href=\"#eda\">Exploratory Data Analysis</a></li>\n",
    "<li><a href=\"#conclusions\">Conclusions</a></li>\n",
    "</ul>"
   ]
  },
  {
   "cell_type": "markdown",
   "id": "9af47964",
   "metadata": {
    "papermill": {
     "duration": 0.034446,
     "end_time": "2024-03-31T18:37:36.253853",
     "exception": false,
     "start_time": "2024-03-31T18:37:36.219407",
     "status": "completed"
    },
    "tags": []
   },
   "source": [
    "<div style=\"border-radius: 10px; border: 2px solid #3498db; padding: 20px; background-color: #f0f0f0; box-shadow: 0px 4px 8px rgba(0, 0, 0, 0.1);\">\n",
    "   <div style=\"display: flex; align-items: flex-start;\">\n",
    "      <div style=\"flex: 1;\">\n",
    "         <h3 style=\"color: #2c3e50; text-shadow: 2px 2px 4px rgba(0, 0, 0, 0.3); font-weight: bold;\">Steps of Data Science Project</h3>\n",
    "         <div style=\"margin-top: 20px; text-align: left;\">\n",
    "            <ul style=\"list-style-type: decimal; margin-left: 10px; font-size: 18px; color: #333;\">\n",
    "            <li>Askning Questions &#128587;</li>\n",
    "            <li>Data Collection &#128194;</li>\n",
    "            <li>Data Cleaning &#128269;</li>\n",
    "            <li>Exploratory Data Analysis (EDA) &#128220;</li>\n",
    "            <li>Comunicate Results &#128640;</li>\n",
    "        </ul>\n",
    "         </div>\n",
    "      </div>\n",
    "   </div>\n",
    "</div>"
   ]
  },
  {
   "cell_type": "markdown",
   "id": "5ad31cb5",
   "metadata": {
    "papermill": {
     "duration": 0.031895,
     "end_time": "2024-03-31T18:37:36.318840",
     "exception": false,
     "start_time": "2024-03-31T18:37:36.286945",
     "status": "completed"
    },
    "tags": []
   },
   "source": [
    "<a id='intro'></a>\n",
    "<div style=\"border-radius: 10px; border: 2px solid #FFD700; padding: 20px; background-color: #E8F6EF; box-shadow: 0px 6px 12px rgba(0, 0, 0, 0.1); text-align: left;\">\n",
    "<h1>Introduction to the Movie Dataset</h1>\n",
    "<ul>\n",
    "  <li><strong>detail</strong></li>\n",
    "</ul>\n",
    "\n",
    "<h2>Dataset Overview:</h2>\n",
    "\n",
    "<ul>\n",
    "  <li><strong>detail</strong></li>\n",
    "</ul>\n",
    "\n",
    "<h2>Purpose:</h2>\n",
    "\n",
    "<ul>\n",
    "  <li><strong>detail</strong></li>\n",
    "</ul>\n",
    "\n",
    "<h2>Methodology:</h2>\n",
    "\n",
    "<ul>\n",
    "  <li><strong>detail</strong></li>\n",
    "</ul>\n",
    "\n",
    "<h2>Conclusion:</h2>\n",
    "\n",
    "<ul>\n",
    "  <li><strong>detail</strong></li>\n",
    "</ul>\n",
    "</div>"
   ]
  },
  {
   "cell_type": "markdown",
   "id": "446cec99",
   "metadata": {
    "papermill": {
     "duration": 0.031859,
     "end_time": "2024-03-31T18:37:36.382911",
     "exception": false,
     "start_time": "2024-03-31T18:37:36.351052",
     "status": "completed"
    },
    "tags": []
   },
   "source": [
    "<div style=\"background:#fff7f7;padding:10px;border-radius:6px;border:2px blue solid;margin:10px;\">\n",
    "  <h2>Movie Dataset Description</h2>\n",
    "  <ol>\n",
    "    <li><strong>{컬럼이름}:</strong> {컬럼설명}</li>\n",
    "  </ol>\n",
    "</div>"
   ]
  },
  {
   "cell_type": "markdown",
   "id": "92866ac6",
   "metadata": {
    "papermill": {
     "duration": 0.03236,
     "end_time": "2024-03-31T18:37:36.447329",
     "exception": false,
     "start_time": "2024-03-31T18:37:36.414969",
     "status": "completed"
    },
    "tags": []
   },
   "source": [
    "<div style=\"border-radius: 10px; border: 2px solid #FFD700; padding: 20px; background-color: #E8F6EF; box-shadow: 0px 6px 12px rgba(0, 0, 0, 0.1); text-align: left;\">\n",
    "    <h2 style=\"color: #17A05D; text-shadow: 2px 2px 4px rgba(0, 0, 0, 0.3); font-size: 24px; font-weight: bold; margin-bottom: 10px;\">\n",
    "        Question(s) for Analysis</h2>\n",
    "        <ol style=\"font-size: 18px; color: #333;\">\n",
    "            <li>제작비 vs 수익 관계</li>\n",
    "            <li>장르별 수익 & 평점 분석</li>\n",
    "            <li>감독 & 배우별 영향 분석</li>\n",
    "            <li>개봉 시기가 흥행에 미치는 영향</li>\n",
    "        </ol>\n",
    "</div>"
   ]
  },
  {
   "cell_type": "markdown",
   "id": "3029cda0",
   "metadata": {
    "papermill": {
     "duration": 0.03177,
     "end_time": "2024-03-31T18:37:36.576395",
     "exception": false,
     "start_time": "2024-03-31T18:37:36.544625",
     "status": "completed"
    },
    "tags": []
   },
   "source": [
    "## <div style=\"text-align: left; background-color: #BB4ED8 ; font-family: Trebuchet MS; color: white; padding: 15px; line-height:1;border-radius:1px; margin-bottom: 0em; text-align: center; font-size: 25px; border-radius: 8px 8px 0 0;  \">1| Import Libraries📚</div>"
   ]
  },
  {
   "cell_type": "code",
   "execution_count": 21,
   "id": "389c5cd1",
   "metadata": {
    "execution": {
     "iopub.execute_input": "2024-03-31T18:37:36.642690Z",
     "iopub.status.busy": "2024-03-31T18:37:36.642224Z",
     "iopub.status.idle": "2024-03-31T18:37:39.337767Z",
     "shell.execute_reply": "2024-03-31T18:37:39.336743Z"
    },
    "papermill": {
     "duration": 2.732099,
     "end_time": "2024-03-31T18:37:39.340616",
     "exception": false,
     "start_time": "2024-03-31T18:37:36.608517",
     "status": "completed"
    },
    "tags": []
   },
   "outputs": [],
   "source": [
    "import pandas as pd\n",
    "import numpy as np\n",
    "import seaborn as sns\n",
    "import matplotlib.pyplot as plt\n",
    "import json"
   ]
  },
  {
   "cell_type": "markdown",
   "id": "e12b46b0",
   "metadata": {
    "papermill": {
     "duration": 0.032456,
     "end_time": "2024-03-31T18:37:39.405611",
     "exception": false,
     "start_time": "2024-03-31T18:37:39.373155",
     "status": "completed"
    },
    "tags": []
   },
   "source": [
    "<a id='wrangling'></a>\n",
    "## <div style=\"text-align: left; background-color: #BB4ED8 ; font-family: Trebuchet MS; color: white; padding: 15px; line-height:1;border-radius:1px; margin-bottom: 0em; text-align: center; font-size: 25px; border-radius: 8px 8px 0 0;  \">2| Data Wrangling</div>"
   ]
  },
  {
   "cell_type": "code",
   "execution_count": 14,
   "id": "3136d189",
   "metadata": {
    "execution": {
     "iopub.execute_input": "2024-03-31T18:37:39.533033Z",
     "iopub.status.busy": "2024-03-31T18:37:39.532378Z",
     "iopub.status.idle": "2024-03-31T18:37:39.875792Z",
     "shell.execute_reply": "2024-03-31T18:37:39.874763Z"
    },
    "papermill": {
     "duration": 0.440885,
     "end_time": "2024-03-31T18:37:39.878384",
     "exception": false,
     "start_time": "2024-03-31T18:37:39.437499",
     "status": "completed"
    },
    "tags": []
   },
   "outputs": [],
   "source": [
    "movie_df = pd.read_csv(\"./data/tmdb_5000_movies.csv\")\n",
    "credit_df = pd.read_csv(\"./data/tmdb_5000_credits.csv\")"
   ]
  },
  {
   "cell_type": "markdown",
   "id": "cbc8a264",
   "metadata": {
    "papermill": {
     "duration": 0.031412,
     "end_time": "2024-03-31T18:37:39.942217",
     "exception": false,
     "start_time": "2024-03-31T18:37:39.910805",
     "status": "completed"
    },
    "tags": []
   },
   "source": [
    "<div style='background-color: #fff7f7; border: 2px solid; padding :8px; border-radius: 8px 8px 0 0;'>\n",
    "    <font size=\"+2\" color=\"green\" ><b>Some Information</b></font>\n",
    "</div>"
   ]
  },
  {
   "cell_type": "code",
   "execution_count": 15,
   "id": "0c1b62e5",
   "metadata": {
    "execution": {
     "iopub.execute_input": "2024-03-31T18:37:40.008683Z",
     "iopub.status.busy": "2024-03-31T18:37:40.008291Z",
     "iopub.status.idle": "2024-03-31T18:37:40.054541Z",
     "shell.execute_reply": "2024-03-31T18:37:40.053247Z"
    },
    "papermill": {
     "duration": 0.082334,
     "end_time": "2024-03-31T18:37:40.057137",
     "exception": false,
     "start_time": "2024-03-31T18:37:39.974803",
     "status": "completed"
    },
    "tags": []
   },
   "outputs": [
    {
     "name": "stdout",
     "output_type": "stream",
     "text": [
      "<class 'pandas.core.frame.DataFrame'>\n",
      "RangeIndex: 4803 entries, 0 to 4802\n",
      "Data columns (total 20 columns):\n",
      " #   Column                Non-Null Count  Dtype  \n",
      "---  ------                --------------  -----  \n",
      " 0   budget                4803 non-null   int64  \n",
      " 1   genres                4803 non-null   object \n",
      " 2   homepage              1712 non-null   object \n",
      " 3   id                    4803 non-null   int64  \n",
      " 4   keywords              4803 non-null   object \n",
      " 5   original_language     4803 non-null   object \n",
      " 6   original_title        4803 non-null   object \n",
      " 7   overview              4800 non-null   object \n",
      " 8   popularity            4803 non-null   float64\n",
      " 9   production_companies  4803 non-null   object \n",
      " 10  production_countries  4803 non-null   object \n",
      " 11  release_date          4802 non-null   object \n",
      " 12  revenue               4803 non-null   int64  \n",
      " 13  runtime               4801 non-null   float64\n",
      " 14  spoken_languages      4803 non-null   object \n",
      " 15  status                4803 non-null   object \n",
      " 16  tagline               3959 non-null   object \n",
      " 17  title                 4803 non-null   object \n",
      " 18  vote_average          4803 non-null   float64\n",
      " 19  vote_count            4803 non-null   int64  \n",
      "dtypes: float64(3), int64(4), object(13)\n",
      "memory usage: 750.6+ KB\n"
     ]
    },
    {
     "data": {
      "text/plain": [
       "None"
      ]
     },
     "metadata": {},
     "output_type": "display_data"
    },
    {
     "name": "stdout",
     "output_type": "stream",
     "text": [
      "<class 'pandas.core.frame.DataFrame'>\n",
      "RangeIndex: 4803 entries, 0 to 4802\n",
      "Data columns (total 4 columns):\n",
      " #   Column    Non-Null Count  Dtype \n",
      "---  ------    --------------  ----- \n",
      " 0   movie_id  4803 non-null   int64 \n",
      " 1   title     4803 non-null   object\n",
      " 2   cast      4803 non-null   object\n",
      " 3   crew      4803 non-null   object\n",
      "dtypes: int64(1), object(3)\n",
      "memory usage: 150.2+ KB\n"
     ]
    },
    {
     "data": {
      "text/plain": [
       "None"
      ]
     },
     "metadata": {},
     "output_type": "display_data"
    }
   ],
   "source": [
    "display(movie_df.info())\n",
    "display(credit_df.info())"
   ]
  },
  {
   "cell_type": "markdown",
   "id": "59f75166",
   "metadata": {
    "papermill": {
     "duration": 0.032338,
     "end_time": "2024-03-31T18:37:40.122842",
     "exception": false,
     "start_time": "2024-03-31T18:37:40.090504",
     "status": "completed"
    },
    "tags": []
   },
   "source": [
    "<div style='background-color: #fff7f7; border: 2px solid; padding :8px; border-radius: 8px 8px 0 0;'>\n",
    "    <font size=\"+2\" color=\"green\" ><b>Statistics</b></font>\n",
    "</div>"
   ]
  },
  {
   "cell_type": "code",
   "execution_count": 16,
   "id": "9007e610",
   "metadata": {
    "execution": {
     "iopub.execute_input": "2024-03-31T18:37:40.191604Z",
     "iopub.status.busy": "2024-03-31T18:37:40.191141Z",
     "iopub.status.idle": "2024-03-31T18:37:40.248545Z",
     "shell.execute_reply": "2024-03-31T18:37:40.246901Z"
    },
    "papermill": {
     "duration": 0.096571,
     "end_time": "2024-03-31T18:37:40.251455",
     "exception": false,
     "start_time": "2024-03-31T18:37:40.154884",
     "status": "completed"
    },
    "tags": []
   },
   "outputs": [
    {
     "data": {
      "text/html": [
       "<div>\n",
       "<style scoped>\n",
       "    .dataframe tbody tr th:only-of-type {\n",
       "        vertical-align: middle;\n",
       "    }\n",
       "\n",
       "    .dataframe tbody tr th {\n",
       "        vertical-align: top;\n",
       "    }\n",
       "\n",
       "    .dataframe thead th {\n",
       "        text-align: right;\n",
       "    }\n",
       "</style>\n",
       "<table border=\"1\" class=\"dataframe\">\n",
       "  <thead>\n",
       "    <tr style=\"text-align: right;\">\n",
       "      <th></th>\n",
       "      <th>budget</th>\n",
       "      <th>id</th>\n",
       "      <th>popularity</th>\n",
       "      <th>revenue</th>\n",
       "      <th>runtime</th>\n",
       "      <th>vote_average</th>\n",
       "      <th>vote_count</th>\n",
       "    </tr>\n",
       "  </thead>\n",
       "  <tbody>\n",
       "    <tr>\n",
       "      <th>count</th>\n",
       "      <td>4.803000e+03</td>\n",
       "      <td>4803.000000</td>\n",
       "      <td>4803.000000</td>\n",
       "      <td>4.803000e+03</td>\n",
       "      <td>4801.000000</td>\n",
       "      <td>4803.000000</td>\n",
       "      <td>4803.000000</td>\n",
       "    </tr>\n",
       "    <tr>\n",
       "      <th>mean</th>\n",
       "      <td>2.904504e+07</td>\n",
       "      <td>57165.484281</td>\n",
       "      <td>21.492301</td>\n",
       "      <td>8.226064e+07</td>\n",
       "      <td>106.875859</td>\n",
       "      <td>6.092172</td>\n",
       "      <td>690.217989</td>\n",
       "    </tr>\n",
       "    <tr>\n",
       "      <th>std</th>\n",
       "      <td>4.072239e+07</td>\n",
       "      <td>88694.614033</td>\n",
       "      <td>31.816650</td>\n",
       "      <td>1.628571e+08</td>\n",
       "      <td>22.611935</td>\n",
       "      <td>1.194612</td>\n",
       "      <td>1234.585891</td>\n",
       "    </tr>\n",
       "    <tr>\n",
       "      <th>min</th>\n",
       "      <td>0.000000e+00</td>\n",
       "      <td>5.000000</td>\n",
       "      <td>0.000000</td>\n",
       "      <td>0.000000e+00</td>\n",
       "      <td>0.000000</td>\n",
       "      <td>0.000000</td>\n",
       "      <td>0.000000</td>\n",
       "    </tr>\n",
       "    <tr>\n",
       "      <th>25%</th>\n",
       "      <td>7.900000e+05</td>\n",
       "      <td>9014.500000</td>\n",
       "      <td>4.668070</td>\n",
       "      <td>0.000000e+00</td>\n",
       "      <td>94.000000</td>\n",
       "      <td>5.600000</td>\n",
       "      <td>54.000000</td>\n",
       "    </tr>\n",
       "    <tr>\n",
       "      <th>50%</th>\n",
       "      <td>1.500000e+07</td>\n",
       "      <td>14629.000000</td>\n",
       "      <td>12.921594</td>\n",
       "      <td>1.917000e+07</td>\n",
       "      <td>103.000000</td>\n",
       "      <td>6.200000</td>\n",
       "      <td>235.000000</td>\n",
       "    </tr>\n",
       "    <tr>\n",
       "      <th>75%</th>\n",
       "      <td>4.000000e+07</td>\n",
       "      <td>58610.500000</td>\n",
       "      <td>28.313505</td>\n",
       "      <td>9.291719e+07</td>\n",
       "      <td>118.000000</td>\n",
       "      <td>6.800000</td>\n",
       "      <td>737.000000</td>\n",
       "    </tr>\n",
       "    <tr>\n",
       "      <th>max</th>\n",
       "      <td>3.800000e+08</td>\n",
       "      <td>459488.000000</td>\n",
       "      <td>875.581305</td>\n",
       "      <td>2.787965e+09</td>\n",
       "      <td>338.000000</td>\n",
       "      <td>10.000000</td>\n",
       "      <td>13752.000000</td>\n",
       "    </tr>\n",
       "  </tbody>\n",
       "</table>\n",
       "</div>"
      ],
      "text/plain": [
       "             budget             id   popularity       revenue      runtime  \\\n",
       "count  4.803000e+03    4803.000000  4803.000000  4.803000e+03  4801.000000   \n",
       "mean   2.904504e+07   57165.484281    21.492301  8.226064e+07   106.875859   \n",
       "std    4.072239e+07   88694.614033    31.816650  1.628571e+08    22.611935   \n",
       "min    0.000000e+00       5.000000     0.000000  0.000000e+00     0.000000   \n",
       "25%    7.900000e+05    9014.500000     4.668070  0.000000e+00    94.000000   \n",
       "50%    1.500000e+07   14629.000000    12.921594  1.917000e+07   103.000000   \n",
       "75%    4.000000e+07   58610.500000    28.313505  9.291719e+07   118.000000   \n",
       "max    3.800000e+08  459488.000000   875.581305  2.787965e+09   338.000000   \n",
       "\n",
       "       vote_average    vote_count  \n",
       "count   4803.000000   4803.000000  \n",
       "mean       6.092172    690.217989  \n",
       "std        1.194612   1234.585891  \n",
       "min        0.000000      0.000000  \n",
       "25%        5.600000     54.000000  \n",
       "50%        6.200000    235.000000  \n",
       "75%        6.800000    737.000000  \n",
       "max       10.000000  13752.000000  "
      ]
     },
     "metadata": {},
     "output_type": "display_data"
    },
    {
     "data": {
      "text/html": [
       "<div>\n",
       "<style scoped>\n",
       "    .dataframe tbody tr th:only-of-type {\n",
       "        vertical-align: middle;\n",
       "    }\n",
       "\n",
       "    .dataframe tbody tr th {\n",
       "        vertical-align: top;\n",
       "    }\n",
       "\n",
       "    .dataframe thead th {\n",
       "        text-align: right;\n",
       "    }\n",
       "</style>\n",
       "<table border=\"1\" class=\"dataframe\">\n",
       "  <thead>\n",
       "    <tr style=\"text-align: right;\">\n",
       "      <th></th>\n",
       "      <th>movie_id</th>\n",
       "    </tr>\n",
       "  </thead>\n",
       "  <tbody>\n",
       "    <tr>\n",
       "      <th>count</th>\n",
       "      <td>4803.000000</td>\n",
       "    </tr>\n",
       "    <tr>\n",
       "      <th>mean</th>\n",
       "      <td>57165.484281</td>\n",
       "    </tr>\n",
       "    <tr>\n",
       "      <th>std</th>\n",
       "      <td>88694.614033</td>\n",
       "    </tr>\n",
       "    <tr>\n",
       "      <th>min</th>\n",
       "      <td>5.000000</td>\n",
       "    </tr>\n",
       "    <tr>\n",
       "      <th>25%</th>\n",
       "      <td>9014.500000</td>\n",
       "    </tr>\n",
       "    <tr>\n",
       "      <th>50%</th>\n",
       "      <td>14629.000000</td>\n",
       "    </tr>\n",
       "    <tr>\n",
       "      <th>75%</th>\n",
       "      <td>58610.500000</td>\n",
       "    </tr>\n",
       "    <tr>\n",
       "      <th>max</th>\n",
       "      <td>459488.000000</td>\n",
       "    </tr>\n",
       "  </tbody>\n",
       "</table>\n",
       "</div>"
      ],
      "text/plain": [
       "            movie_id\n",
       "count    4803.000000\n",
       "mean    57165.484281\n",
       "std     88694.614033\n",
       "min         5.000000\n",
       "25%      9014.500000\n",
       "50%     14629.000000\n",
       "75%     58610.500000\n",
       "max    459488.000000"
      ]
     },
     "metadata": {},
     "output_type": "display_data"
    }
   ],
   "source": [
    "display(movie_df.describe())\n",
    "display(credit_df.describe())"
   ]
  },
  {
   "cell_type": "markdown",
   "id": "bf08a8f3",
   "metadata": {},
   "source": [
    "<div style='background-color: #fff7f7; border: 2px solid; padding :8px; border-radius: 8px 8px 0 0;'>\n",
    "    <font size=\"+2\" color=\"green\" ><b>Merging Two Dataframes</b></font>\n",
    "</div>"
   ]
  },
  {
   "cell_type": "code",
   "execution_count": 42,
   "id": "1ede44bd",
   "metadata": {},
   "outputs": [
    {
     "name": "stdout",
     "output_type": "stream",
     "text": [
      "<class 'pandas.core.frame.DataFrame'>\n",
      "RangeIndex: 4809 entries, 0 to 4808\n",
      "Data columns (total 22 columns):\n",
      " #   Column                Non-Null Count  Dtype  \n",
      "---  ------                --------------  -----  \n",
      " 0   budget                4809 non-null   int64  \n",
      " 1   genres                4809 non-null   object \n",
      " 2   homepage              1713 non-null   object \n",
      " 3   keywords              4809 non-null   object \n",
      " 4   original_language     4809 non-null   object \n",
      " 5   original_title        4809 non-null   object \n",
      " 6   overview              4806 non-null   object \n",
      " 7   popularity            4809 non-null   float64\n",
      " 8   production_companies  4809 non-null   object \n",
      " 9   production_countries  4809 non-null   object \n",
      " 10  release_date          4808 non-null   object \n",
      " 11  revenue               4809 non-null   int64  \n",
      " 12  runtime               4807 non-null   float64\n",
      " 13  spoken_languages      4809 non-null   object \n",
      " 14  status                4809 non-null   object \n",
      " 15  tagline               3965 non-null   object \n",
      " 16  title                 4809 non-null   object \n",
      " 17  vote_average          4809 non-null   float64\n",
      " 18  vote_count            4809 non-null   int64  \n",
      " 19  movie_id              4809 non-null   int64  \n",
      " 20  cast                  4809 non-null   object \n",
      " 21  crew                  4809 non-null   object \n",
      "dtypes: float64(3), int64(4), object(15)\n",
      "memory usage: 826.7+ KB\n"
     ]
    },
    {
     "data": {
      "text/plain": [
       "None"
      ]
     },
     "metadata": {},
     "output_type": "display_data"
    },
    {
     "data": {
      "text/html": [
       "<div>\n",
       "<style scoped>\n",
       "    .dataframe tbody tr th:only-of-type {\n",
       "        vertical-align: middle;\n",
       "    }\n",
       "\n",
       "    .dataframe tbody tr th {\n",
       "        vertical-align: top;\n",
       "    }\n",
       "\n",
       "    .dataframe thead th {\n",
       "        text-align: right;\n",
       "    }\n",
       "</style>\n",
       "<table border=\"1\" class=\"dataframe\">\n",
       "  <thead>\n",
       "    <tr style=\"text-align: right;\">\n",
       "      <th></th>\n",
       "      <th>budget</th>\n",
       "      <th>popularity</th>\n",
       "      <th>revenue</th>\n",
       "      <th>runtime</th>\n",
       "      <th>vote_average</th>\n",
       "      <th>vote_count</th>\n",
       "      <th>movie_id</th>\n",
       "    </tr>\n",
       "  </thead>\n",
       "  <tbody>\n",
       "    <tr>\n",
       "      <th>count</th>\n",
       "      <td>4.809000e+03</td>\n",
       "      <td>4809.000000</td>\n",
       "      <td>4.809000e+03</td>\n",
       "      <td>4807.000000</td>\n",
       "      <td>4809.000000</td>\n",
       "      <td>4809.000000</td>\n",
       "      <td>4809.000000</td>\n",
       "    </tr>\n",
       "    <tr>\n",
       "      <th>mean</th>\n",
       "      <td>2.902780e+07</td>\n",
       "      <td>21.491664</td>\n",
       "      <td>8.227511e+07</td>\n",
       "      <td>106.882255</td>\n",
       "      <td>6.092514</td>\n",
       "      <td>690.331670</td>\n",
       "      <td>57120.571429</td>\n",
       "    </tr>\n",
       "    <tr>\n",
       "      <th>std</th>\n",
       "      <td>4.070473e+07</td>\n",
       "      <td>31.803366</td>\n",
       "      <td>1.628379e+08</td>\n",
       "      <td>22.602535</td>\n",
       "      <td>1.193989</td>\n",
       "      <td>1234.187111</td>\n",
       "      <td>88653.369849</td>\n",
       "    </tr>\n",
       "    <tr>\n",
       "      <th>min</th>\n",
       "      <td>0.000000e+00</td>\n",
       "      <td>0.000000</td>\n",
       "      <td>0.000000e+00</td>\n",
       "      <td>0.000000</td>\n",
       "      <td>0.000000</td>\n",
       "      <td>0.000000</td>\n",
       "      <td>5.000000</td>\n",
       "    </tr>\n",
       "    <tr>\n",
       "      <th>25%</th>\n",
       "      <td>7.800000e+05</td>\n",
       "      <td>4.667230</td>\n",
       "      <td>0.000000e+00</td>\n",
       "      <td>94.000000</td>\n",
       "      <td>5.600000</td>\n",
       "      <td>54.000000</td>\n",
       "      <td>9012.000000</td>\n",
       "    </tr>\n",
       "    <tr>\n",
       "      <th>50%</th>\n",
       "      <td>1.500000e+07</td>\n",
       "      <td>12.921594</td>\n",
       "      <td>1.917000e+07</td>\n",
       "      <td>103.000000</td>\n",
       "      <td>6.200000</td>\n",
       "      <td>235.000000</td>\n",
       "      <td>14624.000000</td>\n",
       "    </tr>\n",
       "    <tr>\n",
       "      <th>75%</th>\n",
       "      <td>4.000000e+07</td>\n",
       "      <td>28.350529</td>\n",
       "      <td>9.291317e+07</td>\n",
       "      <td>118.000000</td>\n",
       "      <td>6.800000</td>\n",
       "      <td>737.000000</td>\n",
       "      <td>58595.000000</td>\n",
       "    </tr>\n",
       "    <tr>\n",
       "      <th>max</th>\n",
       "      <td>3.800000e+08</td>\n",
       "      <td>875.581305</td>\n",
       "      <td>2.787965e+09</td>\n",
       "      <td>338.000000</td>\n",
       "      <td>10.000000</td>\n",
       "      <td>13752.000000</td>\n",
       "      <td>459488.000000</td>\n",
       "    </tr>\n",
       "  </tbody>\n",
       "</table>\n",
       "</div>"
      ],
      "text/plain": [
       "             budget   popularity       revenue      runtime  vote_average  \\\n",
       "count  4.809000e+03  4809.000000  4.809000e+03  4807.000000   4809.000000   \n",
       "mean   2.902780e+07    21.491664  8.227511e+07   106.882255      6.092514   \n",
       "std    4.070473e+07    31.803366  1.628379e+08    22.602535      1.193989   \n",
       "min    0.000000e+00     0.000000  0.000000e+00     0.000000      0.000000   \n",
       "25%    7.800000e+05     4.667230  0.000000e+00    94.000000      5.600000   \n",
       "50%    1.500000e+07    12.921594  1.917000e+07   103.000000      6.200000   \n",
       "75%    4.000000e+07    28.350529  9.291317e+07   118.000000      6.800000   \n",
       "max    3.800000e+08   875.581305  2.787965e+09   338.000000     10.000000   \n",
       "\n",
       "         vote_count       movie_id  \n",
       "count   4809.000000    4809.000000  \n",
       "mean     690.331670   57120.571429  \n",
       "std     1234.187111   88653.369849  \n",
       "min        0.000000       5.000000  \n",
       "25%       54.000000    9012.000000  \n",
       "50%      235.000000   14624.000000  \n",
       "75%      737.000000   58595.000000  \n",
       "max    13752.000000  459488.000000  "
      ]
     },
     "metadata": {},
     "output_type": "display_data"
    }
   ],
   "source": [
    "merged_df = pd.merge(movie_df, credit_df, left_on='title', right_on='title')\n",
    "merged_df.drop(['id'], axis=1, inplace=True)\n",
    "display(merged_df.info())\n",
    "display(merged_df.describe())"
   ]
  },
  {
   "cell_type": "markdown",
   "id": "d910fdb7",
   "metadata": {
    "papermill": {
     "duration": 0.032084,
     "end_time": "2024-03-31T18:37:40.316433",
     "exception": false,
     "start_time": "2024-03-31T18:37:40.284349",
     "status": "completed"
    },
    "tags": []
   },
   "source": [
    "<div style='background-color: #fff7f7; border: 2px solid; padding :8px; border-radius: 8px 8px 0 0;'>\n",
    "    <font size=\"+2\" color=\"green\" ><b>How many unique items on each row</b></font>\n",
    "</div>"
   ]
  },
  {
   "cell_type": "code",
   "execution_count": null,
   "id": "72783806",
   "metadata": {
    "execution": {
     "iopub.execute_input": "2024-03-31T18:37:40.384111Z",
     "iopub.status.busy": "2024-03-31T18:37:40.383695Z",
     "iopub.status.idle": "2024-03-31T18:37:40.434738Z",
     "shell.execute_reply": "2024-03-31T18:37:40.433544Z"
    },
    "papermill": {
     "duration": 0.087822,
     "end_time": "2024-03-31T18:37:40.437484",
     "exception": false,
     "start_time": "2024-03-31T18:37:40.349662",
     "status": "completed"
    },
    "tags": []
   },
   "outputs": [],
   "source": [
    "print(f'Total number of data points: {merged_df.shape[0]}')\n",
    "print()\n",
    "\n",
    "for col in merged_df.columns:\n",
    "    print(f'Unique values in {col}: {merged_df[col].nunique()}')"
   ]
  },
  {
   "cell_type": "markdown",
   "id": "aebc04aa",
   "metadata": {
    "papermill": {
     "duration": 0.033818,
     "end_time": "2024-03-31T18:37:40.504484",
     "exception": false,
     "start_time": "2024-03-31T18:37:40.470666",
     "status": "completed"
    },
    "tags": []
   },
   "source": [
    "<a id=\"2\"></a>\n",
    "## <div style=\"text-align: left; background-color: #BB4ED8 ; font-family: Trebuchet MS; color: white; padding: 15px; line-height:1;border-radius:1px; margin-bottom: 0em; text-align: center; font-size: 25px; border-radius: 8px 8px 0 0;  \">3| Data Cleaning</div>"
   ]
  },
  {
   "cell_type": "markdown",
   "id": "94aca8df",
   "metadata": {
    "papermill": {
     "duration": 0.032342,
     "end_time": "2024-03-31T18:37:40.570056",
     "exception": false,
     "start_time": "2024-03-31T18:37:40.537714",
     "status": "completed"
    },
    "tags": []
   },
   "source": [
    "<div style='background-color: #fff7f7; border: 2px solid; padding :8px; border-radius: 8px 8px 0 0;'>\n",
    "    <font size=\"+2\" color=\"green\" ><b>3.1 | Convert data type</b></font>\n",
    "</div>"
   ]
  },
  {
   "cell_type": "code",
   "execution_count": null,
   "id": "626a74be",
   "metadata": {
    "execution": {
     "iopub.execute_input": "2024-03-31T18:37:40.638450Z",
     "iopub.status.busy": "2024-03-31T18:37:40.638027Z",
     "iopub.status.idle": "2024-03-31T18:37:40.652689Z",
     "shell.execute_reply": "2024-03-31T18:37:40.651613Z"
    },
    "papermill": {
     "duration": 0.05206,
     "end_time": "2024-03-31T18:37:40.655633",
     "exception": false,
     "start_time": "2024-03-31T18:37:40.603573",
     "status": "completed"
    },
    "tags": []
   },
   "outputs": [],
   "source": [
    "# Get Release Year column\n",
    "merged_df['release_date'] = pd.to_datetime(merged_df['release_date'])\n",
    "merged_df['release_year'] = merged_df['release_date'].dt.year"
   ]
  },
  {
   "cell_type": "markdown",
   "id": "c843fee4",
   "metadata": {
    "papermill": {
     "duration": 0.032921,
     "end_time": "2024-03-31T18:37:40.722268",
     "exception": false,
     "start_time": "2024-03-31T18:37:40.689347",
     "status": "completed"
    },
    "tags": []
   },
   "source": [
    "<div style='background-color: #fff7f7; border: 2px solid; padding :8px; border-radius: 8px 8px 0 0;'>\n",
    "    <font size=\"+2\" color=\"green\" ><b>3.2 | Drop columns </b></font>\n",
    "</div>"
   ]
  },
  {
   "cell_type": "code",
   "execution_count": 44,
   "id": "e458e0fb",
   "metadata": {},
   "outputs": [],
   "source": [
    "dropped_df = merged_df.drop(['homepage', 'tagline', 'status', 'original_title', 'crew',\\\n",
    "                 'keywords', 'original_language', 'original_title', 'overview'], axis=1)"
   ]
  },
  {
   "cell_type": "markdown",
   "id": "eb8be701",
   "metadata": {
    "papermill": {
     "duration": 0.035133,
     "end_time": "2024-03-31T18:37:41.338792",
     "exception": false,
     "start_time": "2024-03-31T18:37:41.303659",
     "status": "completed"
    },
    "tags": []
   },
   "source": [
    "<div style='background-color: #fff7f7; border: 2px solid; padding :8px; border-radius: 8px 8px 0 0;'>\n",
    "    <font size=\"+2\" color=\"green\" ><b>3.3 | Check For Duplicates</b></font>\n",
    "</div>"
   ]
  },
  {
   "cell_type": "code",
   "execution_count": null,
   "id": "65d3dfa0",
   "metadata": {
    "execution": {
     "iopub.execute_input": "2024-03-31T18:37:41.409876Z",
     "iopub.status.busy": "2024-03-31T18:37:41.409454Z",
     "iopub.status.idle": "2024-03-31T18:37:41.479996Z",
     "shell.execute_reply": "2024-03-31T18:37:41.478818Z"
    },
    "papermill": {
     "duration": 0.111212,
     "end_time": "2024-03-31T18:37:41.483062",
     "exception": false,
     "start_time": "2024-03-31T18:37:41.371850",
     "status": "completed"
    },
    "tags": []
   },
   "outputs": [
    {
     "name": "stdout",
     "output_type": "stream",
     "text": [
      "movie_id\n",
      "1255       True\n",
      "72710      True\n",
      "268        True\n",
      "2661       True\n",
      "39269      True\n",
      "          ...  \n",
      "293863    False\n",
      "16871     False\n",
      "307081    False\n",
      "273481    False\n",
      "22970     False\n",
      "Name: count, Length: 4803, dtype: bool\n"
     ]
    }
   ],
   "source": [
    "# print rows that have same movie_id\n",
    "\n",
    "print(dropped_df['movie_id'].value_counts() > 1)"
   ]
  },
  {
   "cell_type": "code",
   "execution_count": 52,
   "id": "3c8052eb",
   "metadata": {},
   "outputs": [
    {
     "name": "stdout",
     "output_type": "stream",
     "text": [
      "movie_id\n",
      "25975     False\n",
      "19995     False\n",
      "285       False\n",
      "44990     False\n",
      "287625    False\n",
      "          ...  \n",
      "99861     False\n",
      "38757     False\n",
      "559       False\n",
      "49529     False\n",
      "49026     False\n",
      "Name: count, Length: 4803, dtype: bool\n"
     ]
    }
   ],
   "source": [
    "# remove movie_id duplicates\n",
    "\n",
    "no_dup_df = dropped_df.drop_duplicates(subset='movie_id', keep='first')\n",
    "print(no_dup_df['movie_id'].value_counts() > 1)"
   ]
  },
  {
   "cell_type": "markdown",
   "id": "a74b5aad",
   "metadata": {
    "papermill": {
     "duration": 0.032695,
     "end_time": "2024-03-31T18:37:41.668247",
     "exception": false,
     "start_time": "2024-03-31T18:37:41.635552",
     "status": "completed"
    },
    "tags": []
   },
   "source": [
    "<div style='background-color: #fff7f7; border: 2px solid; padding :8px; border-radius: 8px 8px 0 0;'>\n",
    "    <font size=\"+2\" color=\"green\" ><b>3.4 | Handeling nan values</b></font>\n",
    "</div>"
   ]
  },
  {
   "cell_type": "code",
   "execution_count": 59,
   "id": "96612caa",
   "metadata": {},
   "outputs": [
    {
     "name": "stdout",
     "output_type": "stream",
     "text": [
      "data type of budget: int64\n",
      "data type of genres: object\n",
      "data type of popularity: float64\n",
      "data type of production_companies: object\n",
      "data type of production_countries: object\n",
      "data type of release_date: object\n",
      "data type of revenue: int64\n",
      "data type of runtime: float64\n",
      "data type of spoken_languages: object\n",
      "data type of title: object\n",
      "data type of vote_average: float64\n",
      "data type of vote_count: int64\n",
      "data type of movie_id: int64\n",
      "data type of cast: object\n"
     ]
    }
   ],
   "source": [
    "for col in no_dup_df.columns:\n",
    "    print(f'data type of {col}: {no_dup_df[col].dtype}')"
   ]
  },
  {
   "cell_type": "code",
   "execution_count": null,
   "id": "ff05ae1f",
   "metadata": {
    "execution": {
     "iopub.execute_input": "2024-03-31T18:37:41.741093Z",
     "iopub.status.busy": "2024-03-31T18:37:41.740581Z",
     "iopub.status.idle": "2024-03-31T18:37:41.761832Z",
     "shell.execute_reply": "2024-03-31T18:37:41.760604Z"
    },
    "papermill": {
     "duration": 0.062584,
     "end_time": "2024-03-31T18:37:41.765735",
     "exception": false,
     "start_time": "2024-03-31T18:37:41.703151",
     "status": "completed"
    },
    "tags": []
   },
   "outputs": [
    {
     "name": "stdout",
     "output_type": "stream",
     "text": [
      "NaN values in each column\n",
      "release_date : 1\n",
      "runtime : 2\n"
     ]
    }
   ],
   "source": [
    "# check out NaN values\n",
    "print('NaN values in each column')\n",
    "for col in no_dup_df.columns:\n",
    "    is_nan = no_dup_df[col].isna().sum()\n",
    "    print(f'{col} : {is_nan}') if is_nan else print('',end='')\n",
    "\n",
    "print(\"=====================================================================\")\n",
    "\n",
    "print('zero values in each column')"
   ]
  },
  {
   "cell_type": "code",
   "execution_count": null,
   "id": "a65e30cb",
   "metadata": {},
   "outputs": [],
   "source": [
    "# release_date : fill it manually\n",
    "# runtime : fill it with mean\n",
    "\n",
    "no_nan_df = no_dup_df.fillna({'release_date': '2022-06-10'}) \n",
    "no_nan_df.fillna({'runtime': int(no_nan_df['runtime'].mean())}, inplace=True)"
   ]
  },
  {
   "cell_type": "markdown",
   "id": "8cdc6e0a",
   "metadata": {
    "papermill": {
     "duration": 0.034356,
     "end_time": "2024-03-31T18:37:42.210574",
     "exception": false,
     "start_time": "2024-03-31T18:37:42.176218",
     "status": "completed"
    },
    "tags": []
   },
   "source": [
    "<div style='background-color: #fff7f7; border: 2px solid; padding :8px; border-radius: 8px 8px 0 0;'>\n",
    "    <font size=\"+2\" color=\"green\" ><b>3.6 | Handleing Unrealistic Values & Outliers</b></font>\n",
    "</div>"
   ]
  },
  {
   "cell_type": "code",
   "execution_count": null,
   "id": "8a43d4eb",
   "metadata": {
    "execution": {
     "iopub.execute_input": "2024-03-31T18:37:42.283610Z",
     "iopub.status.busy": "2024-03-31T18:37:42.283221Z",
     "iopub.status.idle": "2024-03-31T18:37:42.315015Z",
     "shell.execute_reply": "2024-03-31T18:37:42.313874Z"
    },
    "papermill": {
     "duration": 0.072783,
     "end_time": "2024-03-31T18:37:42.317635",
     "exception": false,
     "start_time": "2024-03-31T18:37:42.244852",
     "status": "completed"
    },
    "tags": []
   },
   "outputs": [],
   "source": []
  },
  {
   "cell_type": "markdown",
   "metadata": {},
   "source": [
    "<div style='background-color: #fff7f7; border: 2px solid; padding :8px; border-radius: 8px 8px 0 0;'>\n",
    "    <font size=\"+2\" color=\"green\" ><b>3.7 | Creating Additional Dataframes for EDA </b></font>\n",
    "</div>"
   ]
  },
  {
   "cell_type": "code",
   "execution_count": null,
   "id": "0586d658",
   "metadata": {},
   "outputs": [],
   "source": []
  },
  {
   "cell_type": "markdown",
   "id": "d3e86173",
   "metadata": {
    "papermill": {
     "duration": 0.035809,
     "end_time": "2024-03-31T18:37:43.436195",
     "exception": false,
     "start_time": "2024-03-31T18:37:43.400386",
     "status": "completed"
    },
    "tags": []
   },
   "source": [
    "<div style=\"position: relative; background-color: #EAEAEA; font-size: 20px; font-family: Georgia; border: 3px solid #FF5733; padding: 10px; margin: 10px 0; color: #333;\">\n",
    "    <div style=\"position: absolute; top: -20px; left: 40%; transform: translateX(-50%); background-color: #FF5733; padding: 5px 15px; font-weight: bold; font-size: 24px; color: white;\">Insights</div>\n",
    "    <ul style=\"list-style-type: disc; padding-left: 20px;\">\n",
    "        <li style=\"margin-bottom: 10px;\">Outlires here is many, this is too acceptable because there are movies that have more budgets, revenues,... than others</li>\n",
    "        <li style=\"margin-bottom: 10px;\">runtime is the only colmun that i think that oulires is accepted because most of movies are close together</li>\n",
    "        <li style=\"margin-bottom: 10px;\">But i won't remove anything</li>\n",
    "    </ul>\n",
    "</div>\n"
   ]
  },
  {
   "cell_type": "markdown",
   "id": "aa41c017",
   "metadata": {
    "papermill": {
     "duration": 0.035262,
     "end_time": "2024-03-31T18:37:43.506886",
     "exception": false,
     "start_time": "2024-03-31T18:37:43.471624",
     "status": "completed"
    },
    "tags": []
   },
   "source": [
    "<div style='background-color: #fff7f7; border: 2px solid; padding :8px; border-radius: 8px 8px 0 0;'>\n",
    "    <font size=\"+2\" color=\"green\" ><b>3.6 | Make ROI & Profit Column</b></font>\n",
    "</div>"
   ]
  },
  {
   "cell_type": "code",
   "execution_count": 24,
   "id": "dc1bc324",
   "metadata": {},
   "outputs": [],
   "source": [
    "# add profit column\n",
    "merged_df['profit'] = merged_df['revenue'] - merged_df['budget']\n",
    "\n",
    "\n",
    "# Only calculate ROI if 'both' and 'revenue' column values are nonzero.\n",
    "df_ = merged_df.loc[merged_df['budget'] > 0].loc[merged_df['revenue'] > 0]\n",
    "\n",
    "# calculate ROI value.\n",
    "df_['ROI'] = (df_['profit']) / df_['budget'] * 100\n",
    "\n",
    "# join into original df\n",
    "merged_df = merged_df.join(df_['ROI'], how='left')"
   ]
  },
  {
   "cell_type": "markdown",
   "id": "1c02602c",
   "metadata": {
    "papermill": {
     "duration": 0.03515,
     "end_time": "2024-03-31T18:37:43.662667",
     "exception": false,
     "start_time": "2024-03-31T18:37:43.627517",
     "status": "completed"
    },
    "tags": []
   },
   "source": [
    "<a id='eda'></a>\n",
    "## <div style=\"text-align: left; background-color: #BB4ED8; font-family: Trebuchet MS; color: white; padding: 15px; line-height: 1; border-radius: 1px; margin-bottom: 0em; text-align: center; font-size: 25px\">4|Exploratory Data Analysis</div>"
   ]
  },
  {
   "cell_type": "markdown",
   "id": "012c9f82",
   "metadata": {
    "papermill": {
     "duration": 0.036176,
     "end_time": "2024-03-31T18:37:43.734523",
     "exception": false,
     "start_time": "2024-03-31T18:37:43.698347",
     "status": "completed"
    },
    "tags": []
   },
   "source": [
    "## <div style=\"text-align: left; background-color: #ffd700; font-family: Trebuchet MS; padding: 15px; line-height: 1; border-radius: 1px; margin-bottom: 0em; text-align: center; font-size: 22px; color:#333\">Research Question 1 | 제작비 vs 수익 관계</div>"
   ]
  },
  {
   "cell_type": "code",
   "execution_count": null,
   "id": "fec512cc",
   "metadata": {
    "execution": {
     "iopub.execute_input": "2024-03-31T18:37:43.808216Z",
     "iopub.status.busy": "2024-03-31T18:37:43.806989Z",
     "iopub.status.idle": "2024-03-31T18:37:44.615591Z",
     "shell.execute_reply": "2024-03-31T18:37:44.614686Z"
    },
    "papermill": {
     "duration": 0.848237,
     "end_time": "2024-03-31T18:37:44.618585",
     "exception": false,
     "start_time": "2024-03-31T18:37:43.770348",
     "status": "completed"
    },
    "tags": []
   },
   "outputs": [],
   "source": []
  },
  {
   "cell_type": "markdown",
   "id": "6e86ab82",
   "metadata": {
    "papermill": {
     "duration": 0.036704,
     "end_time": "2024-03-31T18:37:44.693376",
     "exception": false,
     "start_time": "2024-03-31T18:37:44.656672",
     "status": "completed"
    },
    "tags": []
   },
   "source": [
    "<div style=\"position: relative; background-color: #EAEAEA; font-size: 20px; font-family: Georgia; border: 3px solid #FF5733; padding: 10px; margin: 10px 0; color: #333;\">\n",
    "    <div style=\"position: absolute; top: -20px; left: 40%; transform: translateX(-50%); background-color: #FF5733; padding: 5px 15px; font-weight: bold; font-size: 24px; color: white;\">Insights</div>\n",
    "    <ul style=\"list-style-type: disc; padding-left: 20px;\">\n",
    "        <li style=\"margin-bottom: 10px;\">결과 1</li>\n",
    "        <li style=\"margin-bottom: 10px;\">결과 2</li>\n",
    "        <li style=\"margin-bottom: 10px;\">결과 3</li>\n",
    "    </ul>\n",
    "</div>"
   ]
  },
  {
   "cell_type": "markdown",
   "metadata": {},
   "source": [
    "## <div style=\"text-align: left; background-color: #ffd700; font-family: Trebuchet MS; padding: 15px; line-height: 1; border-radius: 1px; margin-bottom: 0em; text-align: center; font-size: 22px; color:#333\">Research Question 2 | 장르별 수익 & 평점 분석</div>"
   ]
  },
  {
   "cell_type": "code",
   "execution_count": null,
   "metadata": {},
   "outputs": [],
   "source": []
  },
  {
   "cell_type": "markdown",
   "metadata": {},
   "source": [
    "<div style=\"position: relative; background-color: #EAEAEA; font-size: 20px; font-family: Georgia; border: 3px solid #FF5733; padding: 10px; margin: 10px 0; color: #333;\">\n",
    "    <div style=\"position: absolute; top: -20px; left: 40%; transform: translateX(-50%); background-color: #FF5733; padding: 5px 15px; font-weight: bold; font-size: 24px; color: white;\">Insights</div>\n",
    "    <ul style=\"list-style-type: disc; padding-left: 20px;\">\n",
    "        <li style=\"margin-bottom: 10px;\">결과 1</li>\n",
    "        <li style=\"margin-bottom: 10px;\">결과 2</li>\n",
    "        <li style=\"margin-bottom: 10px;\">결과 3</li>\n",
    "    </ul>\n",
    "</div>"
   ]
  },
  {
   "cell_type": "markdown",
   "id": "465e0883",
   "metadata": {},
   "source": [
    "## <div style=\"text-align: left; background-color: #ffd700; font-family: Trebuchet MS; padding: 15px; line-height: 1; border-radius: 1px; margin-bottom: 0em; text-align: center; font-size: 22px; color:#333\">Research Question 3 | 감독 & 배우별 영향 분석</div>"
   ]
  },
  {
   "cell_type": "code",
   "execution_count": null,
   "id": "ff7300fb",
   "metadata": {},
   "outputs": [],
   "source": []
  },
  {
   "cell_type": "markdown",
   "id": "c6f61a25",
   "metadata": {},
   "source": [
    "<div style=\"position: relative; background-color: #EAEAEA; font-size: 20px; font-family: Georgia; border: 3px solid #FF5733; padding: 10px; margin: 10px 0; color: #333;\">\n",
    "    <div style=\"position: absolute; top: -20px; left: 40%; transform: translateX(-50%); background-color: #FF5733; padding: 5px 15px; font-weight: bold; font-size: 24px; color: white;\">Insights</div>\n",
    "    <ul style=\"list-style-type: disc; padding-left: 20px;\">\n",
    "        <li style=\"margin-bottom: 10px;\">결과 1</li>\n",
    "        <li style=\"margin-bottom: 10px;\">결과 2</li>\n",
    "        <li style=\"margin-bottom: 10px;\">결과 3</li>\n",
    "    </ul>\n",
    "</div>"
   ]
  },
  {
   "cell_type": "markdown",
   "id": "9bab337a",
   "metadata": {},
   "source": [
    "## <div style=\"text-align: left; background-color: #ffd700; font-family: Trebuchet MS; padding: 15px; line-height: 1; border-radius: 1px; margin-bottom: 0em; text-align: center; font-size: 22px; color:#333\">Research Question 4 | 개봉 시기가 흥행에 미치는 영향</div>"
   ]
  },
  {
   "cell_type": "code",
   "execution_count": null,
   "id": "9a04e18a",
   "metadata": {},
   "outputs": [],
   "source": []
  },
  {
   "cell_type": "markdown",
   "id": "a834e8c5",
   "metadata": {},
   "source": [
    "<div style=\"position: relative; background-color: #EAEAEA; font-size: 20px; font-family: Georgia; border: 3px solid #FF5733; padding: 10px; margin: 10px 0; color: #333;\">\n",
    "    <div style=\"position: absolute; top: -20px; left: 40%; transform: translateX(-50%); background-color: #FF5733; padding: 5px 15px; font-weight: bold; font-size: 24px; color: white;\">Insights</div>\n",
    "    <ul style=\"list-style-type: disc; padding-left: 20px;\">\n",
    "        <li style=\"margin-bottom: 10px;\">결과 1</li>\n",
    "        <li style=\"margin-bottom: 10px;\">결과 2</li>\n",
    "        <li style=\"margin-bottom: 10px;\">결과 3</li>\n",
    "    </ul>\n",
    "</div>"
   ]
  },
  {
   "cell_type": "markdown",
   "id": "c02100c3",
   "metadata": {
    "papermill": {
     "duration": 0.074243,
     "end_time": "2024-03-31T18:38:10.932326",
     "exception": false,
     "start_time": "2024-03-31T18:38:10.858083",
     "status": "completed"
    },
    "tags": []
   },
   "source": [
    "## <div style=\"text-align: left; background-color: #BB4ED8 ; font-family: Trebuchet MS; color: white; padding: 15px; line-height:1;border-radius:1px; margin-bottom: 0em; text-align: center; font-size: 25px; border-radius: 8px 8px 0 0;  \">6| Communicate Results</div>"
   ]
  },
  {
   "cell_type": "markdown",
   "id": "7b0b1378",
   "metadata": {
    "papermill": {
     "duration": 0.073343,
     "end_time": "2024-03-31T18:38:11.079616",
     "exception": false,
     "start_time": "2024-03-31T18:38:11.006273",
     "status": "completed"
    },
    "tags": []
   },
   "source": [
    "<a id='conclusions'></a>\n",
    "<div style=\"border-radius: 10px; border: 2px solid #FFD700; padding: 20px; background-color: #E8F6EF; box-shadow: 0px 6px 12px rgba(0, 0, 0, 0.1); text-align: left;\">\n",
    "    <h2 style=\"color: #17A05D; text-shadow: 2px 2px 4px rgba(0, 0, 0, 0.3); font-size: 24px; font-weight: bold; margin-bottom: 10px;\">\n",
    "        Conclusions</h2>\n",
    "        <ol style=\"font-size: 18px; color: #333;\">\n",
    "            <li>결과1</li>\n",
    "            <li>결과2</li>\n",
    "            <li>결과3</li>\n",
    "            <li>결과4</li>\n",
    "        </ol>\n",
    "</div>"
   ]
  },
  {
   "cell_type": "markdown",
   "id": "9d2a7b70",
   "metadata": {
    "papermill": {
     "duration": 0.078982,
     "end_time": "2024-03-31T18:38:11.232371",
     "exception": false,
     "start_time": "2024-03-31T18:38:11.153389",
     "status": "completed"
    },
    "tags": []
   },
   "source": [
    "<div style=\"background:#fff7f7;padding:10px;border-radius:6px;border:2px blue solid;margin:10px;\">\n",
    "  <h2>제한사항??</h2>\n",
    "    <p>ex) null값이 많아 데이터가 정화하지 않아요..ㅠ\n",
    "    </p>\n",
    "</div>"
   ]
  },
  {
   "cell_type": "markdown",
   "id": "1d6df6ab",
   "metadata": {
    "papermill": {
     "duration": 0.073972,
     "end_time": "2024-03-31T18:38:11.551385",
     "exception": false,
     "start_time": "2024-03-31T18:38:11.477413",
     "status": "completed"
    },
    "tags": []
   },
   "source": [
    "<img src=\"https://raw.githubusercontent.com/ntclai/PictureForMyProject/main/87481-of-thanks-letter-text-logo-calligraphy-drawing%20(1).png\">"
   ]
  }
 ],
 "metadata": {
  "kaggle": {
   "accelerator": "none",
   "dataSources": [
    {
     "datasetId": 138,
     "sourceId": 4508,
     "sourceType": "datasetVersion"
    },
    {
     "datasetId": 3405,
     "sourceId": 6663,
     "sourceType": "datasetVersion"
    },
    {
     "datasetId": 434238,
     "sourceId": 2654038,
     "sourceType": "datasetVersion"
    },
    {
     "datasetId": 4669189,
     "sourceId": 7941576,
     "sourceType": "datasetVersion"
    }
   ],
   "dockerImageVersionId": 30673,
   "isGpuEnabled": false,
   "isInternetEnabled": false,
   "language": "python",
   "sourceType": "notebook"
  },
  "kernelspec": {
   "display_name": "eco_car",
   "language": "python",
   "name": "python3"
  },
  "language_info": {
   "codemirror_mode": {
    "name": "ipython",
    "version": 3
   },
   "file_extension": ".py",
   "mimetype": "text/x-python",
   "name": "python",
   "nbconvert_exporter": "python",
   "pygments_lexer": "ipython3",
   "version": "3.12.2"
  },
  "papermill": {
   "default_parameters": {},
   "duration": 39.430358,
   "end_time": "2024-03-31T18:38:12.347378",
   "environment_variables": {},
   "exception": null,
   "input_path": "__notebook__.ipynb",
   "output_path": "__notebook__.ipynb",
   "parameters": {},
   "start_time": "2024-03-31T18:37:32.917020",
   "version": "2.5.0"
  }
 },
 "nbformat": 4,
 "nbformat_minor": 5
}
