{
 "cells": [
  {
   "cell_type": "markdown",
   "id": "0a9ddcd7",
   "metadata": {
    "papermill": {
     "duration": 0.032876,
     "end_time": "2024-03-31T18:37:36.185021",
     "exception": false,
     "start_time": "2024-03-31T18:37:36.152145",
     "status": "completed"
    },
    "tags": []
   },
   "source": [
    "## Table of Contents\n",
    "<ul>\n",
    "<li><a href=\"#intro\">Introduction</a></li>\n",
    "<li><a href=\"#wrangling\">Data Wrangling</a></li>\n",
    "<li><a href=\"#eda\">Exploratory Data Analysis</a></li>\n",
    "<li><a href=\"#conclusions\">Conclusions</a></li>\n",
    "</ul>"
   ]
  },
  {
   "cell_type": "markdown",
   "id": "9af47964",
   "metadata": {
    "papermill": {
     "duration": 0.034446,
     "end_time": "2024-03-31T18:37:36.253853",
     "exception": false,
     "start_time": "2024-03-31T18:37:36.219407",
     "status": "completed"
    },
    "tags": []
   },
   "source": [
    "<div style=\"border-radius: 10px; border: 2px solid #3498db; padding: 20px; background-color: #f0f0f0; box-shadow: 0px 4px 8px rgba(0, 0, 0, 0.1);\">\n",
    "   <div style=\"display: flex; align-items: flex-start;\">\n",
    "      <div style=\"flex: 1;\">\n",
    "         <h3 style=\"color: #2c3e50; text-shadow: 2px 2px 4px rgba(0, 0, 0, 0.3); font-weight: bold;\">Steps of Data Science Project</h3>\n",
    "         <div style=\"margin-top: 20px; text-align: left;\">\n",
    "            <ul style=\"list-style-type: decimal; margin-left: 10px; font-size: 18px; color: #333;\">\n",
    "            <li>Askning Questions &#128587;</li>\n",
    "            <li>Data Collection &#128194;</li>\n",
    "            <li>Data Cleaning &#128269;</li>\n",
    "            <li>Exploratory Data Analysis (EDA) &#128220;</li>\n",
    "            <li>Comunicate Results &#128640;</li>\n",
    "        </ul>\n",
    "         </div>\n",
    "      </div>\n",
    "   </div>\n",
    "</div>"
   ]
  },
  {
   "cell_type": "markdown",
   "id": "5ad31cb5",
   "metadata": {
    "papermill": {
     "duration": 0.031895,
     "end_time": "2024-03-31T18:37:36.318840",
     "exception": false,
     "start_time": "2024-03-31T18:37:36.286945",
     "status": "completed"
    },
    "tags": []
   },
   "source": [
    "<a id='intro'></a>\n",
    "<div style=\"border-radius: 10px; border: 2px solid #FFD700; padding: 20px; background-color: #E8F6EF; box-shadow: 0px 6px 12px rgba(0, 0, 0, 0.1); text-align: left;\">\n",
    "<h1>Introduction to the Movie Dataset</h1>\n",
    "<ul>\n",
    "  <li><strong>detail</strong></li>\n",
    "</ul>\n",
    "\n",
    "<h2>Dataset Overview:</h2>\n",
    "\n",
    "<ul>\n",
    "  <li><strong>detail</strong></li>\n",
    "</ul>\n",
    "\n",
    "<h2>Purpose:</h2>\n",
    "\n",
    "<ul>\n",
    "  <li><strong>detail</strong></li>\n",
    "</ul>\n",
    "\n",
    "<h2>Methodology:</h2>\n",
    "\n",
    "<ul>\n",
    "  <li><strong>detail</strong></li>\n",
    "</ul>\n",
    "\n",
    "<h2>Conclusion:</h2>\n",
    "\n",
    "<ul>\n",
    "  <li><strong>detail</strong></li>\n",
    "</ul>\n",
    "</div>"
   ]
  },
  {
   "cell_type": "markdown",
   "id": "446cec99",
   "metadata": {
    "papermill": {
     "duration": 0.031859,
     "end_time": "2024-03-31T18:37:36.382911",
     "exception": false,
     "start_time": "2024-03-31T18:37:36.351052",
     "status": "completed"
    },
    "tags": []
   },
   "source": [
    "<div style=\"background:#fff7f7;padding:10px;border-radius:6px;border:2px blue solid;margin:10px;\">\n",
    "  <h2>Movie Dataset Description</h2>\n",
    "  <ol>\n",
    "    <li><strong>{컬럼이름}:</strong> {컬럼설명}</li>\n",
    "  </ol>\n",
    "</div>"
   ]
  },
  {
   "cell_type": "markdown",
   "id": "92866ac6",
   "metadata": {
    "papermill": {
     "duration": 0.03236,
     "end_time": "2024-03-31T18:37:36.447329",
     "exception": false,
     "start_time": "2024-03-31T18:37:36.414969",
     "status": "completed"
    },
    "tags": []
   },
   "source": [
    "<div style=\"border-radius: 10px; border: 2px solid #FFD700; padding: 20px; background-color: #E8F6EF; box-shadow: 0px 6px 12px rgba(0, 0, 0, 0.1); text-align: left;\">\n",
    "    <h2 style=\"color: #17A05D; text-shadow: 2px 2px 4px rgba(0, 0, 0, 0.3); font-size: 24px; font-weight: bold; margin-bottom: 10px;\">\n",
    "        Question(s) for Analysis</h2>\n",
    "        <ol style=\"font-size: 18px; color: #333;\">\n",
    "            <li>제작비 vs 수익 관계</li>\n",
    "            <li>장르별 수익 & 평점 분석</li>\n",
    "            <li>감독 & 배우별 영향 분석</li>\n",
    "            <li>개봉 시기가 흥행에 미치는 영향</li>\n",
    "        </ol>\n",
    "</div>"
   ]
  },
  {
   "cell_type": "markdown",
   "id": "3029cda0",
   "metadata": {
    "papermill": {
     "duration": 0.03177,
     "end_time": "2024-03-31T18:37:36.576395",
     "exception": false,
     "start_time": "2024-03-31T18:37:36.544625",
     "status": "completed"
    },
    "tags": []
   },
   "source": [
    "## <div style=\"text-align: left; background-color: #BB4ED8 ; font-family: Trebuchet MS; color: white; padding: 15px; line-height:1;border-radius:1px; margin-bottom: 0em; text-align: center; font-size: 25px; border-radius: 8px 8px 0 0;  \">1| Import Libraries📚</div>"
   ]
  },
  {
   "cell_type": "code",
   "execution_count": null,
   "id": "389c5cd1",
   "metadata": {
    "execution": {
     "iopub.execute_input": "2024-03-31T18:37:36.642690Z",
     "iopub.status.busy": "2024-03-31T18:37:36.642224Z",
     "iopub.status.idle": "2024-03-31T18:37:39.337767Z",
     "shell.execute_reply": "2024-03-31T18:37:39.336743Z"
    },
    "papermill": {
     "duration": 2.732099,
     "end_time": "2024-03-31T18:37:39.340616",
     "exception": false,
     "start_time": "2024-03-31T18:37:36.608517",
     "status": "completed"
    },
    "tags": []
   },
   "outputs": [],
   "source": [
    "import pandas as pd\n",
    "import numpy as np\n",
    "import seaborn as sns\n",
    "import matplotlib.pyplot as plt\n",
    "import json"
   ]
  },
  {
   "cell_type": "markdown",
   "id": "e12b46b0",
   "metadata": {
    "papermill": {
     "duration": 0.032456,
     "end_time": "2024-03-31T18:37:39.405611",
     "exception": false,
     "start_time": "2024-03-31T18:37:39.373155",
     "status": "completed"
    },
    "tags": []
   },
   "source": [
    "<a id='wrangling'></a>\n",
    "## <div style=\"text-align: left; background-color: #BB4ED8 ; font-family: Trebuchet MS; color: white; padding: 15px; line-height:1;border-radius:1px; margin-bottom: 0em; text-align: center; font-size: 25px; border-radius: 8px 8px 0 0;  \">2| Data Wrangling</div>"
   ]
  },
  {
   "cell_type": "code",
   "execution_count": null,
   "id": "3136d189",
   "metadata": {
    "execution": {
     "iopub.execute_input": "2024-03-31T18:37:39.533033Z",
     "iopub.status.busy": "2024-03-31T18:37:39.532378Z",
     "iopub.status.idle": "2024-03-31T18:37:39.875792Z",
     "shell.execute_reply": "2024-03-31T18:37:39.874763Z"
    },
    "papermill": {
     "duration": 0.440885,
     "end_time": "2024-03-31T18:37:39.878384",
     "exception": false,
     "start_time": "2024-03-31T18:37:39.437499",
     "status": "completed"
    },
    "tags": []
   },
   "outputs": [],
   "source": [
    "movie_df = pd.read_csv(\"./data/tmdb_5000_movies.csv\")\n",
    "credit_df = pd.read_csv(\"./data/tmdb_5000_credits.csv\")"
   ]
  },
  {
   "cell_type": "markdown",
   "id": "cbc8a264",
   "metadata": {
    "papermill": {
     "duration": 0.031412,
     "end_time": "2024-03-31T18:37:39.942217",
     "exception": false,
     "start_time": "2024-03-31T18:37:39.910805",
     "status": "completed"
    },
    "tags": []
   },
   "source": [
    "<div style='background-color: #fff7f7; border: 2px solid; padding :8px; border-radius: 8px 8px 0 0;'>\n",
    "    <font size=\"+2\" color=\"green\" ><b>Some Information</b></font>\n",
    "</div>"
   ]
  },
  {
   "cell_type": "code",
   "execution_count": null,
   "id": "0c1b62e5",
   "metadata": {
    "execution": {
     "iopub.execute_input": "2024-03-31T18:37:40.008683Z",
     "iopub.status.busy": "2024-03-31T18:37:40.008291Z",
     "iopub.status.idle": "2024-03-31T18:37:40.054541Z",
     "shell.execute_reply": "2024-03-31T18:37:40.053247Z"
    },
    "papermill": {
     "duration": 0.082334,
     "end_time": "2024-03-31T18:37:40.057137",
     "exception": false,
     "start_time": "2024-03-31T18:37:39.974803",
     "status": "completed"
    },
    "tags": []
   },
   "outputs": [],
   "source": [
    "display(movie_df.info())\n",
    "display(credit_df.info())"
   ]
  },
  {
   "cell_type": "markdown",
   "id": "59f75166",
   "metadata": {
    "papermill": {
     "duration": 0.032338,
     "end_time": "2024-03-31T18:37:40.122842",
     "exception": false,
     "start_time": "2024-03-31T18:37:40.090504",
     "status": "completed"
    },
    "tags": []
   },
   "source": [
    "<div style='background-color: #fff7f7; border: 2px solid; padding :8px; border-radius: 8px 8px 0 0;'>\n",
    "    <font size=\"+2\" color=\"green\" ><b>Statistics</b></font>\n",
    "</div>"
   ]
  },
  {
   "cell_type": "code",
   "execution_count": null,
   "id": "9007e610",
   "metadata": {
    "execution": {
     "iopub.execute_input": "2024-03-31T18:37:40.191604Z",
     "iopub.status.busy": "2024-03-31T18:37:40.191141Z",
     "iopub.status.idle": "2024-03-31T18:37:40.248545Z",
     "shell.execute_reply": "2024-03-31T18:37:40.246901Z"
    },
    "papermill": {
     "duration": 0.096571,
     "end_time": "2024-03-31T18:37:40.251455",
     "exception": false,
     "start_time": "2024-03-31T18:37:40.154884",
     "status": "completed"
    },
    "tags": []
   },
   "outputs": [],
   "source": [
    "display(movie_df.describe())\n",
    "display(credit_df.describe())"
   ]
  },
  {
   "cell_type": "markdown",
   "id": "bf08a8f3",
   "metadata": {},
   "source": [
    "<div style='background-color: #fff7f7; border: 2px solid; padding :8px; border-radius: 8px 8px 0 0;'>\n",
    "    <font size=\"+2\" color=\"green\" ><b>Merging Two Dataframes</b></font>\n",
    "</div>"
   ]
  },
  {
   "cell_type": "code",
   "execution_count": null,
   "id": "1ede44bd",
   "metadata": {},
   "outputs": [],
   "source": [
    "merged_df = pd.merge(movie_df, credit_df, left_on='title', right_on='title')\n",
    "merged_df.drop(['id'], axis=1, inplace=True)\n",
    "display(merged_df.info())\n",
    "display(merged_df.describe())"
   ]
  },
  {
   "cell_type": "markdown",
   "id": "d910fdb7",
   "metadata": {
    "papermill": {
     "duration": 0.032084,
     "end_time": "2024-03-31T18:37:40.316433",
     "exception": false,
     "start_time": "2024-03-31T18:37:40.284349",
     "status": "completed"
    },
    "tags": []
   },
   "source": [
    "<div style='background-color: #fff7f7; border: 2px solid; padding :8px; border-radius: 8px 8px 0 0;'>\n",
    "    <font size=\"+2\" color=\"green\" ><b>Unique item counts on each row</b></font>\n",
    "</div>"
   ]
  },
  {
   "cell_type": "code",
   "execution_count": null,
   "id": "72783806",
   "metadata": {
    "execution": {
     "iopub.execute_input": "2024-03-31T18:37:40.384111Z",
     "iopub.status.busy": "2024-03-31T18:37:40.383695Z",
     "iopub.status.idle": "2024-03-31T18:37:40.434738Z",
     "shell.execute_reply": "2024-03-31T18:37:40.433544Z"
    },
    "papermill": {
     "duration": 0.087822,
     "end_time": "2024-03-31T18:37:40.437484",
     "exception": false,
     "start_time": "2024-03-31T18:37:40.349662",
     "status": "completed"
    },
    "tags": []
   },
   "outputs": [],
   "source": [
    "print(f'Total number of data entries: {merged_df.shape[0]}')\n",
    "print()\n",
    "\n",
    "for col in merged_df.columns:\n",
    "    print(f'Unique values in column \\'{col}\\': {merged_df[col].nunique()}')"
   ]
  },
  {
   "cell_type": "markdown",
   "id": "aebc04aa",
   "metadata": {
    "papermill": {
     "duration": 0.033818,
     "end_time": "2024-03-31T18:37:40.504484",
     "exception": false,
     "start_time": "2024-03-31T18:37:40.470666",
     "status": "completed"
    },
    "tags": []
   },
   "source": [
    "<a id=\"2\"></a>\n",
    "## <div style=\"text-align: left; background-color: #BB4ED8 ; font-family: Trebuchet MS; color: white; padding: 15px; line-height:1;border-radius:1px; margin-bottom: 0em; text-align: center; font-size: 25px; border-radius: 8px 8px 0 0;  \">3| Data Cleaning</div>"
   ]
  },
  {
   "cell_type": "markdown",
   "id": "94aca8df",
   "metadata": {
    "papermill": {
     "duration": 0.032342,
     "end_time": "2024-03-31T18:37:40.570056",
     "exception": false,
     "start_time": "2024-03-31T18:37:40.537714",
     "status": "completed"
    },
    "tags": []
   },
   "source": [
    "<div style='background-color: #fff7f7; border: 2px solid; padding :8px; border-radius: 8px 8px 0 0;'>\n",
    "    <font size=\"+2\" color=\"green\" ><b>3.1 | Convert data type</b></font>\n",
    "</div>"
   ]
  },
  {
   "cell_type": "code",
   "execution_count": null,
   "id": "626a74be",
   "metadata": {
    "execution": {
     "iopub.execute_input": "2024-03-31T18:37:40.638450Z",
     "iopub.status.busy": "2024-03-31T18:37:40.638027Z",
     "iopub.status.idle": "2024-03-31T18:37:40.652689Z",
     "shell.execute_reply": "2024-03-31T18:37:40.651613Z"
    },
    "papermill": {
     "duration": 0.05206,
     "end_time": "2024-03-31T18:37:40.655633",
     "exception": false,
     "start_time": "2024-03-31T18:37:40.603573",
     "status": "completed"
    },
    "tags": []
   },
   "outputs": [],
   "source": [
    "# Get Release Year column\n",
    "merged_df['release_date'] = pd.to_datetime(merged_df['release_date'])\n",
    "merged_df['release_year'] = merged_df['release_date'].dt.year"
   ]
  },
  {
   "cell_type": "markdown",
   "id": "c843fee4",
   "metadata": {
    "papermill": {
     "duration": 0.032921,
     "end_time": "2024-03-31T18:37:40.722268",
     "exception": false,
     "start_time": "2024-03-31T18:37:40.689347",
     "status": "completed"
    },
    "tags": []
   },
   "source": [
    "<div style='background-color: #fff7f7; border: 2px solid; padding :8px; border-radius: 8px 8px 0 0;'>\n",
    "    <font size=\"+2\" color=\"green\" ><b>3.2 | Drop columns </b></font>\n",
    "</div>"
   ]
  },
  {
   "cell_type": "code",
   "execution_count": null,
   "id": "e458e0fb",
   "metadata": {},
   "outputs": [],
   "source": [
    "dropped_df = merged_df.drop(['homepage', 'tagline', 'status', 'original_title', 'runtime',\\\n",
    "                 'keywords', 'original_language', 'original_title', 'overview',], axis=1)"
   ]
  },
  {
   "cell_type": "markdown",
   "id": "eb8be701",
   "metadata": {
    "papermill": {
     "duration": 0.035133,
     "end_time": "2024-03-31T18:37:41.338792",
     "exception": false,
     "start_time": "2024-03-31T18:37:41.303659",
     "status": "completed"
    },
    "tags": []
   },
   "source": [
    "<div style='background-color: #fff7f7; border: 2px solid; padding :8px; border-radius: 8px 8px 0 0;'>\n",
    "    <font size=\"+2\" color=\"green\" ><b>3.3 | Check For Duplicates</b></font>\n",
    "</div>"
   ]
  },
  {
   "cell_type": "code",
   "execution_count": null,
   "id": "65d3dfa0",
   "metadata": {
    "execution": {
     "iopub.execute_input": "2024-03-31T18:37:41.409876Z",
     "iopub.status.busy": "2024-03-31T18:37:41.409454Z",
     "iopub.status.idle": "2024-03-31T18:37:41.479996Z",
     "shell.execute_reply": "2024-03-31T18:37:41.478818Z"
    },
    "papermill": {
     "duration": 0.111212,
     "end_time": "2024-03-31T18:37:41.483062",
     "exception": false,
     "start_time": "2024-03-31T18:37:41.371850",
     "status": "completed"
    },
    "tags": []
   },
   "outputs": [],
   "source": [
    "# print rows that have same movie_id\n",
    "\n",
    "print(dropped_df['movie_id'].value_counts() > 1)"
   ]
  },
  {
   "cell_type": "code",
   "execution_count": null,
   "id": "3c8052eb",
   "metadata": {},
   "outputs": [],
   "source": [
    "# remove movie_id duplicates\n",
    "\n",
    "no_dup_df = dropped_df.drop_duplicates(subset='movie_id', keep='first')\n",
    "print(no_dup_df['movie_id'].value_counts() > 1)"
   ]
  },
  {
   "cell_type": "markdown",
   "id": "a74b5aad",
   "metadata": {
    "papermill": {
     "duration": 0.032695,
     "end_time": "2024-03-31T18:37:41.668247",
     "exception": false,
     "start_time": "2024-03-31T18:37:41.635552",
     "status": "completed"
    },
    "tags": []
   },
   "source": [
    "<div style='background-color: #fff7f7; border: 2px solid; padding :8px; border-radius: 8px 8px 0 0;'>\n",
    "    <font size=\"+2\" color=\"green\" ><b>3.4 | Handeling nan values</b></font>\n",
    "</div>"
   ]
  },
  {
   "cell_type": "code",
   "execution_count": null,
   "id": "ff05ae1f",
   "metadata": {
    "execution": {
     "iopub.execute_input": "2024-03-31T18:37:41.741093Z",
     "iopub.status.busy": "2024-03-31T18:37:41.740581Z",
     "iopub.status.idle": "2024-03-31T18:37:41.761832Z",
     "shell.execute_reply": "2024-03-31T18:37:41.760604Z"
    },
    "papermill": {
     "duration": 0.062584,
     "end_time": "2024-03-31T18:37:41.765735",
     "exception": false,
     "start_time": "2024-03-31T18:37:41.703151",
     "status": "completed"
    },
    "tags": []
   },
   "outputs": [],
   "source": [
    "# check out NaN, 0, empty json values \n",
    "# but there may exist different types of NaN\n",
    "\n",
    "def check_out_nan_values(df):\n",
    "    print('NaN values in each column')\n",
    "    for col in df.columns:\n",
    "        is_nan = df[col].isna().sum()\n",
    "        print(f'{col} : {is_nan}') if is_nan else print('',end='')\n",
    "\n",
    "    print(\"=====================================================================\")\n",
    "\n",
    "    print('zero values in each column')\n",
    "    for col in df.columns:\n",
    "        is_zero = (df[col] == 0).sum()\n",
    "        print(f'{col} : {is_zero}') if is_zero else print('',end='')\n",
    "\n",
    "    print(\"=====================================================================\")\n",
    "\n",
    "    print('empty json values in each column')\n",
    "    for col in df.columns:\n",
    "        is_empty_json = (df[col] == '[]').sum()\n",
    "        print(f'{col} : {is_empty_json}') if is_empty_json else print('',end='')\n",
    "\n",
    "    print(\"=====================================================================\")\n",
    "\n",
    "check_out_nan_values(no_dup_df)"
   ]
  },
  {
   "cell_type": "code",
   "execution_count": null,
   "id": "a65e30cb",
   "metadata": {},
   "outputs": [],
   "source": [
    "# deal with NaN values\n",
    "# release_date & release_year : drop nan rows\n",
    "\n",
    "no_nan_df = no_dup_df.dropna(subset=['release_date', 'release_year'])\n",
    "\n",
    "# deal with zero values\n",
    "# budget, revenue : drop rows (TBD)\n",
    "# polularity , vote_* : fill it with mean\n",
    "\n",
    "no_nan_df = no_nan_df[no_nan_df['budget'] != 0]\n",
    "no_nan_df = no_nan_df[no_nan_df['revenue'] != 0]\n",
    "\n",
    "no_nan_df['popularity'] = no_nan_df['popularity'].replace(0, no_nan_df['popularity'].mean())\n",
    "no_nan_df['vote_average'] = no_nan_df['vote_average'].replace(0, no_nan_df['vote_average'].mean())\n",
    "no_nan_df['vote_count'] = no_nan_df['vote_count'].replace(0, no_nan_df['vote_count'].mean())\n",
    "\n",
    "# deal with empty json values\n",
    "# genres : drop rows\n",
    "\n",
    "no_nan_df = no_nan_df[no_nan_df['genres'] != '[]']\n",
    "no_nan_df = no_nan_df[no_nan_df['production_companies'] != '[]']\n",
    "no_nan_df = no_nan_df[no_nan_df['production_countries'] != '[]']\n",
    "no_nan_df = no_nan_df[no_nan_df['spoken_languages'] != '[]']\n",
    "no_nan_df = no_nan_df[no_nan_df['cast'] != '[]']\n",
    "no_nan_df = no_nan_df[no_nan_df['crew'] != '[]']\n",
    "\n",
    "check_out_nan_values(no_nan_df)"
   ]
  },
  {
   "cell_type": "markdown",
   "id": "8cdc6e0a",
   "metadata": {
    "papermill": {
     "duration": 0.034356,
     "end_time": "2024-03-31T18:37:42.210574",
     "exception": false,
     "start_time": "2024-03-31T18:37:42.176218",
     "status": "completed"
    },
    "tags": []
   },
   "source": [
    "<div style='background-color: #fff7f7; border: 2px solid; padding :8px; border-radius: 8px 8px 0 0;'>\n",
    "    <font size=\"+2\" color=\"green\" ><b>3.5 | Handleing Unrealistic Values & Outliers</b></font>\n",
    "</div>"
   ]
  },
  {
   "cell_type": "code",
   "execution_count": null,
   "id": "8a43d4eb",
   "metadata": {
    "execution": {
     "iopub.execute_input": "2024-03-31T18:37:42.283610Z",
     "iopub.status.busy": "2024-03-31T18:37:42.283221Z",
     "iopub.status.idle": "2024-03-31T18:37:42.315015Z",
     "shell.execute_reply": "2024-03-31T18:37:42.313874Z"
    },
    "papermill": {
     "duration": 0.072783,
     "end_time": "2024-03-31T18:37:42.317635",
     "exception": false,
     "start_time": "2024-03-31T18:37:42.244852",
     "status": "completed"
    },
    "tags": []
   },
   "outputs": [],
   "source": [
    "# result dataframe should be named as 'processed_df'"
   ]
  },
  {
   "cell_type": "markdown",
   "id": "d3e86173",
   "metadata": {
    "papermill": {
     "duration": 0.035809,
     "end_time": "2024-03-31T18:37:43.436195",
     "exception": false,
     "start_time": "2024-03-31T18:37:43.400386",
     "status": "completed"
    },
    "tags": []
   },
   "source": [
    "<div style=\"position: relative; background-color: #EAEAEA; font-size: 20px; font-family: Georgia; border: 3px solid #FF5733; padding: 10px; margin: 10px 0; color: #333;\">\n",
    "    <div style=\"position: absolute; top: -20px; left: 40%; transform: translateX(-50%); background-color: #FF5733; padding: 5px 15px; font-weight: bold; font-size: 24px; color: white;\">Insights</div>\n",
    "    <ul style=\"list-style-type: disc; padding-left: 20px;\">\n",
    "        <li style=\"margin-bottom: 10px;\">Outlires here is many, this is too acceptable because there are movies that have more budgets, revenues,... than others</li>\n",
    "        <li style=\"margin-bottom: 10px;\">runtime is the only colmun that i think that oulires is accepted because most of movies are close together</li>\n",
    "        <li style=\"margin-bottom: 10px;\">But i won't remove anything</li>\n",
    "    </ul>\n",
    "</div>\n"
   ]
  },
  {
   "cell_type": "markdown",
   "metadata": {},
   "source": [
    "<div style='background-color: #fff7f7; border: 2px solid; padding :8px; border-radius: 8px 8px 0 0;'>\n",
    "    <font size=\"+2\" color=\"green\" ><b>3.6 | Creating Additional Columns & Dataframes for EDA </b></font>\n",
    "</div>"
   ]
  },
  {
   "cell_type": "code",
   "execution_count": null,
   "id": "0586d658",
   "metadata": {},
   "outputs": [],
   "source": [
    "processed_df = no_nan_df\n",
    "\n",
    "# add 'profit' column\n",
    "processed_df['profit'] = processed_df['revenue'] - processed_df['budget']\n",
    "\n",
    "\n",
    "# add 'ROI' column\n",
    "\n",
    "# ROI = (profit / budget) * 100\n",
    "processed_df['ROI'] = (processed_df['profit'] / processed_df['budget']) * 100\n",
    "\n",
    "# Only calculate ROI if 'both' and 'revenue' column values are nonzero.\n",
    "# df_ = merged_df.loc[merged_df['budget'] > 0].loc[merged_df['revenue'] > 0]\n",
    "# df_['ROI'] = (df_['profit']) / df_['budget'] * 100\n",
    "# merged_df = merged_df.join(df_['ROI'], how='left')"
   ]
  },
  {
   "cell_type": "code",
   "execution_count": null,
   "id": "80672071",
   "metadata": {},
   "outputs": [],
   "source": [
    "# add 'director' column from 'crew' column\n",
    "\n",
    "def find_director_from_crew(crew : str) -> list:\n",
    "    \"\"\"\n",
    "    crew is a json string that contains list of dictionaries\n",
    "    each dictionary contains information about a person\n",
    "    return a list of director {id:name} (which means there may be multiple directors)\n",
    "    \"\"\"\n",
    "    director_list = []\n",
    "    for person in json.loads(crew):\n",
    "        if person['job'] == 'Director':\n",
    "            director_list.append({person['id'] : person['name']})\n",
    "    return director_list\n",
    "\n",
    "processed_df['director'] = processed_df['crew'].apply(find_director_from_crew)"
   ]
  },
  {
   "cell_type": "code",
   "execution_count": null,
   "id": "dc1bc324",
   "metadata": {},
   "outputs": [],
   "source": [
    "# create new dataframes for 'genre', 'production_company', 'director', 'cast'\n",
    "def get_genre_df(df: pd.DataFrame) -> pd.DataFrame:\n",
    "    \"\"\"\n",
    "    Return genre dataframe from original dataframe.\n",
    "    index : genre id (int)\n",
    "    column : genre name (str)\n",
    "    \"\"\"\n",
    "    genres_dict = {}\n",
    "    \n",
    "    for genre_json in df['genres']:\n",
    "        genres = json.loads(genre_json)\n",
    "        for genre in genres:\n",
    "            genres_dict[genre['id']] = genre['name'] # genre= {'id': int, 'name': str}\n",
    "    \n",
    "    genre_df = pd.DataFrame.from_dict(data=genres_dict, orient='index').sort_index()\n",
    "    genre_df.rename(columns={0 : 'name'}, inplace=True)\n",
    "    return genre_df\n",
    "\n",
    "\n",
    "def get_production_companines_df(df : pd.DataFrame) -> pd.DataFrame:\n",
    "    \"\"\"\n",
    "    Return production companies dataframe from original dataframe.\n",
    "    index : company id (int)\n",
    "    columns : company name (str), [movie_id] (int list)\n",
    "    \"\"\"\n",
    "    prod_company_name_dict = {}\n",
    "    prod_company_movie_dict = {}\n",
    "    \n",
    "    for idx in df.index:\n",
    "        prod_json = df['production_companies'][idx]\n",
    "        movie_id = df['movie_id'][idx]\n",
    "        companies = json.loads(prod_json)\n",
    "\n",
    "        for company in companies:\n",
    "            prod_company_name_dict[company['id']] = company['name']\n",
    "            prod_company_movie_dict[company['id']] = prod_company_movie_dict.get(company['id'], []) + [movie_id]\n",
    "\n",
    "    prod_company_df = pd.DataFrame.from_dict(data=prod_company_name_dict, orient='index').sort_index()\n",
    "    prod_company_df.rename(columns={0 : 'company_name'}, inplace=True)\n",
    "    prod_company_df['movie_id'] = prod_company_df.index.map(lambda x : prod_company_movie_dict[x])\n",
    "\n",
    "    return prod_company_df\n",
    "\n",
    "\n",
    "def get_directors_df(df : pd.DataFrame) -> pd.DataFrame:\n",
    "    \"\"\"\n",
    "    Return directors dataframe from original dataframe.\n",
    "    index : director id (int)\n",
    "    columns : director name (str), [movie_id] (int list)\n",
    "    \"\"\"\n",
    "    director_name_dict = {}\n",
    "    director_movie_dict = {}\n",
    "\n",
    "    for idx in df.index:\n",
    "        director_list = df['director'][idx]\n",
    "        movie_id = df['movie_id'][idx]\n",
    "\n",
    "        for director in director_list:\n",
    "            for director_id, director_name in director.items():\n",
    "                director_name_dict[director_id] = director_name\n",
    "                director_movie_dict[director_id] = director_movie_dict.get(director_id, []) + [movie_id]\n",
    "    \n",
    "    director_df = pd.DataFrame.from_dict(data=director_name_dict, orient='index').sort_index()\n",
    "    director_df.rename(columns={0 : 'director_name'}, inplace=True)\n",
    "    director_df['movie_id'] = director_df.index.map(lambda x : director_movie_dict[x])\n",
    "    return director_df\n",
    "\n",
    "\n",
    "# TODO : 'cast' dataframe - not decided how to implement\n",
    "def get_cast_df(df):\n",
    "    \"\"\"\n",
    "    Return cast dataframe from original dataframe.\n",
    "    index : cast id (int)\n",
    "    columns : cast name (str), ?\n",
    "    \"\"\"\n",
    "    pass"
   ]
  },
  {
   "cell_type": "markdown",
   "id": "1c02602c",
   "metadata": {
    "papermill": {
     "duration": 0.03515,
     "end_time": "2024-03-31T18:37:43.662667",
     "exception": false,
     "start_time": "2024-03-31T18:37:43.627517",
     "status": "completed"
    },
    "tags": []
   },
   "source": [
    "<a id='eda'></a>\n",
    "## <div style=\"text-align: left; background-color: #BB4ED8; font-family: Trebuchet MS; color: white; padding: 15px; line-height: 1; border-radius: 1px; margin-bottom: 0em; text-align: center; font-size: 25px\">4|Exploratory Data Analysis</div>"
   ]
  },
  {
   "cell_type": "markdown",
   "id": "012c9f82",
   "metadata": {
    "papermill": {
     "duration": 0.036176,
     "end_time": "2024-03-31T18:37:43.734523",
     "exception": false,
     "start_time": "2024-03-31T18:37:43.698347",
     "status": "completed"
    },
    "tags": []
   },
   "source": [
    "## <div style=\"text-align: left; background-color: #ffd700; font-family: Trebuchet MS; padding: 15px; line-height: 1; border-radius: 1px; margin-bottom: 0em; text-align: center; font-size: 22px; color:#333\">Research Question 1 | 제작비 vs 수익 관계</div>"
   ]
  },
  {
   "cell_type": "code",
   "execution_count": null,
   "id": "fec512cc",
   "metadata": {
    "execution": {
     "iopub.execute_input": "2024-03-31T18:37:43.808216Z",
     "iopub.status.busy": "2024-03-31T18:37:43.806989Z",
     "iopub.status.idle": "2024-03-31T18:37:44.615591Z",
     "shell.execute_reply": "2024-03-31T18:37:44.614686Z"
    },
    "papermill": {
     "duration": 0.848237,
     "end_time": "2024-03-31T18:37:44.618585",
     "exception": false,
     "start_time": "2024-03-31T18:37:43.770348",
     "status": "completed"
    },
    "tags": []
   },
   "outputs": [],
   "source": []
  },
  {
   "cell_type": "markdown",
   "id": "6e86ab82",
   "metadata": {
    "papermill": {
     "duration": 0.036704,
     "end_time": "2024-03-31T18:37:44.693376",
     "exception": false,
     "start_time": "2024-03-31T18:37:44.656672",
     "status": "completed"
    },
    "tags": []
   },
   "source": [
    "<div style=\"position: relative; background-color: #EAEAEA; font-size: 20px; font-family: Georgia; border: 3px solid #FF5733; padding: 10px; margin: 10px 0; color: #333;\">\n",
    "    <div style=\"position: absolute; top: -20px; left: 40%; transform: translateX(-50%); background-color: #FF5733; padding: 5px 15px; font-weight: bold; font-size: 24px; color: white;\">Insights</div>\n",
    "    <ul style=\"list-style-type: disc; padding-left: 20px;\">\n",
    "        <li style=\"margin-bottom: 10px;\">결과 1</li>\n",
    "        <li style=\"margin-bottom: 10px;\">결과 2</li>\n",
    "        <li style=\"margin-bottom: 10px;\">결과 3</li>\n",
    "    </ul>\n",
    "</div>"
   ]
  },
  {
   "cell_type": "markdown",
   "metadata": {},
   "source": [
    "## <div style=\"text-align: left; background-color: #ffd700; font-family: Trebuchet MS; padding: 15px; line-height: 1; border-radius: 1px; margin-bottom: 0em; text-align: center; font-size: 22px; color:#333\">Research Question 2 | 장르별 수익 & 평점 분석</div>"
   ]
  },
  {
   "cell_type": "code",
   "execution_count": null,
   "metadata": {},
   "outputs": [],
   "source": []
  },
  {
   "cell_type": "markdown",
   "metadata": {},
   "source": [
    "<div style=\"position: relative; background-color: #EAEAEA; font-size: 20px; font-family: Georgia; border: 3px solid #FF5733; padding: 10px; margin: 10px 0; color: #333;\">\n",
    "    <div style=\"position: absolute; top: -20px; left: 40%; transform: translateX(-50%); background-color: #FF5733; padding: 5px 15px; font-weight: bold; font-size: 24px; color: white;\">Insights</div>\n",
    "    <ul style=\"list-style-type: disc; padding-left: 20px;\">\n",
    "        <li style=\"margin-bottom: 10px;\">결과 1</li>\n",
    "        <li style=\"margin-bottom: 10px;\">결과 2</li>\n",
    "        <li style=\"margin-bottom: 10px;\">결과 3</li>\n",
    "    </ul>\n",
    "</div>"
   ]
  },
  {
   "cell_type": "markdown",
   "id": "465e0883",
   "metadata": {},
   "source": [
    "## <div style=\"text-align: left; background-color: #ffd700; font-family: Trebuchet MS; padding: 15px; line-height: 1; border-radius: 1px; margin-bottom: 0em; text-align: center; font-size: 22px; color:#333\">Research Question 3 | 감독 & 배우별 영향 분석</div>"
   ]
  },
  {
   "cell_type": "code",
   "execution_count": null,
   "id": "ff7300fb",
   "metadata": {},
   "outputs": [],
   "source": []
  },
  {
   "cell_type": "markdown",
   "id": "c6f61a25",
   "metadata": {},
   "source": [
    "<div style=\"position: relative; background-color: #EAEAEA; font-size: 20px; font-family: Georgia; border: 3px solid #FF5733; padding: 10px; margin: 10px 0; color: #333;\">\n",
    "    <div style=\"position: absolute; top: -20px; left: 40%; transform: translateX(-50%); background-color: #FF5733; padding: 5px 15px; font-weight: bold; font-size: 24px; color: white;\">Insights</div>\n",
    "    <ul style=\"list-style-type: disc; padding-left: 20px;\">\n",
    "        <li style=\"margin-bottom: 10px;\">결과 1</li>\n",
    "        <li style=\"margin-bottom: 10px;\">결과 2</li>\n",
    "        <li style=\"margin-bottom: 10px;\">결과 3</li>\n",
    "    </ul>\n",
    "</div>"
   ]
  },
  {
   "cell_type": "markdown",
   "id": "9bab337a",
   "metadata": {},
   "source": [
    "## <div style=\"text-align: left; background-color: #ffd700; font-family: Trebuchet MS; padding: 15px; line-height: 1; border-radius: 1px; margin-bottom: 0em; text-align: center; font-size: 22px; color:#333\">Research Question 4 | 개봉 시기가 흥행에 미치는 영향</div>"
   ]
  },
  {
   "cell_type": "code",
   "execution_count": null,
   "id": "9a04e18a",
   "metadata": {},
   "outputs": [],
   "source": []
  },
  {
   "cell_type": "markdown",
   "id": "a834e8c5",
   "metadata": {},
   "source": [
    "<div style=\"position: relative; background-color: #EAEAEA; font-size: 20px; font-family: Georgia; border: 3px solid #FF5733; padding: 10px; margin: 10px 0; color: #333;\">\n",
    "    <div style=\"position: absolute; top: -20px; left: 40%; transform: translateX(-50%); background-color: #FF5733; padding: 5px 15px; font-weight: bold; font-size: 24px; color: white;\">Insights</div>\n",
    "    <ul style=\"list-style-type: disc; padding-left: 20px;\">\n",
    "        <li style=\"margin-bottom: 10px;\">결과 1</li>\n",
    "        <li style=\"margin-bottom: 10px;\">결과 2</li>\n",
    "        <li style=\"margin-bottom: 10px;\">결과 3</li>\n",
    "    </ul>\n",
    "</div>"
   ]
  },
  {
   "cell_type": "markdown",
   "id": "c02100c3",
   "metadata": {
    "papermill": {
     "duration": 0.074243,
     "end_time": "2024-03-31T18:38:10.932326",
     "exception": false,
     "start_time": "2024-03-31T18:38:10.858083",
     "status": "completed"
    },
    "tags": []
   },
   "source": [
    "## <div style=\"text-align: left; background-color: #BB4ED8 ; font-family: Trebuchet MS; color: white; padding: 15px; line-height:1;border-radius:1px; margin-bottom: 0em; text-align: center; font-size: 25px; border-radius: 8px 8px 0 0;  \">6| Communicate Results</div>"
   ]
  },
  {
   "cell_type": "markdown",
   "id": "7b0b1378",
   "metadata": {
    "papermill": {
     "duration": 0.073343,
     "end_time": "2024-03-31T18:38:11.079616",
     "exception": false,
     "start_time": "2024-03-31T18:38:11.006273",
     "status": "completed"
    },
    "tags": []
   },
   "source": [
    "<a id='conclusions'></a>\n",
    "<div style=\"border-radius: 10px; border: 2px solid #FFD700; padding: 20px; background-color: #E8F6EF; box-shadow: 0px 6px 12px rgba(0, 0, 0, 0.1); text-align: left;\">\n",
    "    <h2 style=\"color: #17A05D; text-shadow: 2px 2px 4px rgba(0, 0, 0, 0.3); font-size: 24px; font-weight: bold; margin-bottom: 10px;\">\n",
    "        Conclusions</h2>\n",
    "        <ol style=\"font-size: 18px; color: #333;\">\n",
    "            <li>결과1</li>\n",
    "            <li>결과2</li>\n",
    "            <li>결과3</li>\n",
    "            <li>결과4</li>\n",
    "        </ol>\n",
    "</div>"
   ]
  },
  {
   "cell_type": "markdown",
   "id": "9d2a7b70",
   "metadata": {
    "papermill": {
     "duration": 0.078982,
     "end_time": "2024-03-31T18:38:11.232371",
     "exception": false,
     "start_time": "2024-03-31T18:38:11.153389",
     "status": "completed"
    },
    "tags": []
   },
   "source": [
    "<div style=\"background:#fff7f7;padding:10px;border-radius:6px;border:2px blue solid;margin:10px;\">\n",
    "  <h2>제한사항??</h2>\n",
    "    <p>ex) null값이 많아 데이터가 정화하지 않아요..ㅠ\n",
    "    </p>\n",
    "</div>"
   ]
  },
  {
   "cell_type": "markdown",
   "id": "1d6df6ab",
   "metadata": {
    "papermill": {
     "duration": 0.073972,
     "end_time": "2024-03-31T18:38:11.551385",
     "exception": false,
     "start_time": "2024-03-31T18:38:11.477413",
     "status": "completed"
    },
    "tags": []
   },
   "source": [
    "<img src=\"https://raw.githubusercontent.com/ntclai/PictureForMyProject/main/87481-of-thanks-letter-text-logo-calligraphy-drawing%20(1).png\">"
   ]
  }
 ],
 "metadata": {
  "kaggle": {
   "accelerator": "none",
   "dataSources": [
    {
     "datasetId": 138,
     "sourceId": 4508,
     "sourceType": "datasetVersion"
    },
    {
     "datasetId": 3405,
     "sourceId": 6663,
     "sourceType": "datasetVersion"
    },
    {
     "datasetId": 434238,
     "sourceId": 2654038,
     "sourceType": "datasetVersion"
    },
    {
     "datasetId": 4669189,
     "sourceId": 7941576,
     "sourceType": "datasetVersion"
    }
   ],
   "dockerImageVersionId": 30673,
   "isGpuEnabled": false,
   "isInternetEnabled": false,
   "language": "python",
   "sourceType": "notebook"
  },
  "kernelspec": {
   "display_name": "eco_car",
   "language": "python",
   "name": "python3"
  },
  "language_info": {
   "codemirror_mode": {
    "name": "ipython",
    "version": 3
   },
   "file_extension": ".py",
   "mimetype": "text/x-python",
   "name": "python",
   "nbconvert_exporter": "python",
   "pygments_lexer": "ipython3",
   "version": "3.12.2"
  },
  "papermill": {
   "default_parameters": {},
   "duration": 39.430358,
   "end_time": "2024-03-31T18:38:12.347378",
   "environment_variables": {},
   "exception": null,
   "input_path": "__notebook__.ipynb",
   "output_path": "__notebook__.ipynb",
   "parameters": {},
   "start_time": "2024-03-31T18:37:32.917020",
   "version": "2.5.0"
  }
 },
 "nbformat": 4,
 "nbformat_minor": 5
}
